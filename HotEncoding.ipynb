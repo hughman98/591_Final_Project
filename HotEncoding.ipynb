{
  "nbformat": 4,
  "nbformat_minor": 0,
  "metadata": {
    "colab": {
      "name": "HotEncoding.ipynb",
      "provenance": [],
      "collapsed_sections": []
    },
    "kernelspec": {
      "name": "python3",
      "display_name": "Python 3"
    },
    "language_info": {
      "name": "python"
    }
  },
  "cells": [
    {
      "cell_type": "markdown",
      "source": [
        "Hot Encoding File\n",
        "\n",
        "Takes in the processed data and creates a file with hot encoded KCs per question.\n",
        "\n",
        "EDM Project, Spring 2022"
      ],
      "metadata": {
        "id": "TnpEWYmYynV0"
      }
    },
    {
      "cell_type": "markdown",
      "source": [
        "Import statements"
      ],
      "metadata": {
        "id": "kz-CcqJl3WcL"
      }
    },
    {
      "cell_type": "code",
      "execution_count": null,
      "metadata": {
        "colab": {
          "base_uri": "https://localhost:8080/"
        },
        "id": "NVkGt5giuCQp",
        "outputId": "267c498b-39f7-4d91-efee-802cc9bce247"
      },
      "outputs": [
        {
          "output_type": "stream",
          "name": "stdout",
          "text": [
            "Requirement already satisfied: pandas in /usr/local/lib/python3.7/dist-packages (1.3.5)\n",
            "Requirement already satisfied: python-dateutil>=2.7.3 in /usr/local/lib/python3.7/dist-packages (from pandas) (2.8.2)\n",
            "Requirement already satisfied: numpy>=1.17.3 in /usr/local/lib/python3.7/dist-packages (from pandas) (1.21.5)\n",
            "Requirement already satisfied: pytz>=2017.3 in /usr/local/lib/python3.7/dist-packages (from pandas) (2018.9)\n",
            "Requirement already satisfied: six>=1.5 in /usr/local/lib/python3.7/dist-packages (from python-dateutil>=2.7.3->pandas) (1.15.0)\n",
            "[nltk_data] Downloading package punkt to /root/nltk_data...\n",
            "[nltk_data]   Package punkt is already up-to-date!\n",
            "[nltk_data] Downloading package stopwords to /root/nltk_data...\n",
            "[nltk_data]   Package stopwords is already up-to-date!\n"
          ]
        },
        {
          "output_type": "execute_result",
          "data": {
            "text/plain": [
              "True"
            ]
          },
          "metadata": {},
          "execution_count": 3
        }
      ],
      "source": [
        "!pip install pandas\n",
        "\n",
        "import numpy as np\n",
        "import pandas as pd\n",
        "import nltk\n",
        "from nltk.corpus import stopwords\n",
        "import re\n",
        "\n",
        "import scipy.stats\n",
        "\n",
        "nltk.download('punkt')\n",
        "nltk.download('stopwords')"
      ]
    },
    {
      "cell_type": "markdown",
      "source": [
        "Hot Encoding"
      ],
      "metadata": {
        "id": "HDL6sV_x3dT1"
      }
    },
    {
      "cell_type": "code",
      "source": [
        "#Input file is the cleaned data\n",
        "inputFile = 'Language_Processed_Data.csv'\n",
        "inputData = pd.read_csv(inputFile, sep=',', skiprows=(0), header=(0))\n",
        "\n",
        "#Creating the hot encoding for each KC\n",
        "hotEncodedData = pd.get_dummies(inputData, columns=['KC0','KC1','KC2','KC3'])\n",
        "hotEncodedData.to_csv('hotEncodingMultipleKCs.csv', index=False)\n",
        "\n",
        "#Since KCs appear multiple times, we combine the columns that refer to the same KC\n",
        "#Each KC will now be its unique column with 1/0 values for each question, depending if that KC is present or not.\n",
        "for column1 in hotEncodedData:\n",
        "  for column2 in hotEncodedData:\n",
        "    if column1[3:] == column2[3:]:\n",
        "      for (index, value) in enumerate(hotEncodedData[column1]):\n",
        "        if hotEncodedData[column1][index] == 1 or hotEncodedData[column2][index] == 1:\n",
        "          hotEncodedData[column1][index] = 1\n",
        "          hotEncodedData[column2][index] = 1\n",
        "\n",
        "#Writing encoded data to file\n",
        "hotEncodedData.to_csv('hotEncodingCombinedKCs.csv', index=False)"
      ],
      "metadata": {
        "colab": {
          "base_uri": "https://localhost:8080/"
        },
        "id": "Aw5c5F3ZzdVH",
        "outputId": "a005d00b-7c48-4984-f9e1-1aa6129fbf2a"
      },
      "execution_count": null,
      "outputs": [
        {
          "output_type": "stream",
          "name": "stdout",
          "text": [
            "[nltk_data] Downloading package punkt to /root/nltk_data...\n",
            "[nltk_data]   Unzipping tokenizers/punkt.zip.\n",
            "[nltk_data] Downloading package stopwords to /root/nltk_data...\n",
            "[nltk_data]   Unzipping corpora/stopwords.zip.\n"
          ]
        },
        {
          "output_type": "stream",
          "name": "stderr",
          "text": [
            "/usr/local/lib/python3.7/dist-packages/ipykernel_launcher.py:15: SettingWithCopyWarning: \n",
            "A value is trying to be set on a copy of a slice from a DataFrame\n",
            "\n",
            "See the caveats in the documentation: https://pandas.pydata.org/pandas-docs/stable/user_guide/indexing.html#returning-a-view-versus-a-copy\n",
            "  from ipykernel import kernelapp as app\n",
            "/usr/local/lib/python3.7/dist-packages/ipykernel_launcher.py:16: SettingWithCopyWarning: \n",
            "A value is trying to be set on a copy of a slice from a DataFrame\n",
            "\n",
            "See the caveats in the documentation: https://pandas.pydata.org/pandas-docs/stable/user_guide/indexing.html#returning-a-view-versus-a-copy\n",
            "  app.launch_new_instance()\n",
            "/usr/local/lib/python3.7/dist-packages/pandas/core/indexing.py:1732: SettingWithCopyWarning: \n",
            "A value is trying to be set on a copy of a slice from a DataFrame\n",
            "\n",
            "See the caveats in the documentation: https://pandas.pydata.org/pandas-docs/stable/user_guide/indexing.html#returning-a-view-versus-a-copy\n",
            "  self._setitem_single_block(indexer, value, name)\n"
          ]
        }
      ]
    }
  ]
}